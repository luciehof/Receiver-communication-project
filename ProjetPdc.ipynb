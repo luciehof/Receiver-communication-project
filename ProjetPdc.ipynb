{
 "cells": [
  {
   "cell_type": "code",
   "execution_count": 21,
   "metadata": {},
   "outputs": [],
   "source": [
    "import numpy as np\n",
    "import math"
   ]
  },
  {
   "cell_type": "code",
   "execution_count": 23,
   "metadata": {},
   "outputs": [],
   "source": [
    "# GLOBAL VARIABLES\n",
    "# text of 80 chars -> 640 bits\n",
    "# we encode encode each bit into 51200/640 = 80 bits\n",
    "\n",
    "N = 40960 #max is 51200, 40960 = 64*640\n",
    "TOTAL_NB_CODEWORDS = 640 \n",
    "CODEWORD_SIZE = 64 # 64 is the closest power 2 to 80\n",
    "\n",
    "# with CODEWORD_SIZE = 2^i\n",
    "i = 6\n",
    "\n",
    "# M is CODEWORD_SIZE * CODEWORD_SIZE, we want sqrt(EPSILON/CODEWORD_SIZE) = 1\n",
    "EPSILON = CODEWORD_SIZE"
   ]
  },
  {
   "cell_type": "code",
   "execution_count": 38,
   "metadata": {},
   "outputs": [],
   "source": [
    "def compute_M(j):\n",
    "    M_1 = np.array([[1,1],[1,-1]])\n",
    "    temp = M_1\n",
    "    for l in range (j-1):\n",
    "        up = np.concatenate((temp,temp), axis=1) \n",
    "        bottom = np.concatenate((temp,-temp), axis=1)\n",
    "        temp = np.concatenate((up,bottom), axis=0)\n",
    "    return temp"
   ]
  },
  {
   "cell_type": "code",
   "execution_count": 39,
   "metadata": {},
   "outputs": [
    {
     "name": "stdout",
     "output_type": "stream",
     "text": [
      "[[ 1  1  1 ...  1  1  1]\n",
      " [ 1 -1  1 ... -1  1 -1]\n",
      " [ 1  1 -1 ...  1 -1 -1]\n",
      " ...\n",
      " [ 1 -1  1 ... -1  1 -1]\n",
      " [ 1  1 -1 ...  1 -1 -1]\n",
      " [ 1 -1 -1 ... -1 -1  1]]\n"
     ]
    }
   ],
   "source": [
    "M=compute_M(i)\n",
    "print(M)"
   ]
  },
  {
   "cell_type": "code",
   "execution_count": 40,
   "metadata": {},
   "outputs": [],
   "source": [
    "def columnk_M(M,k):\n",
    "    return M[:,k-1]\n"
   ]
  },
  {
   "cell_type": "code",
   "execution_count": 41,
   "metadata": {},
   "outputs": [
    {
     "data": {
      "text/plain": [
       "array([ 1, -1,  1, -1,  1, -1,  1, -1,  1, -1,  1, -1,  1, -1,  1, -1,  1,\n",
       "       -1,  1, -1,  1, -1,  1, -1,  1, -1,  1, -1,  1, -1,  1, -1,  1, -1,\n",
       "        1, -1,  1, -1,  1, -1,  1, -1,  1, -1,  1, -1,  1, -1,  1, -1,  1,\n",
       "       -1,  1, -1,  1, -1,  1, -1,  1, -1,  1, -1,  1, -1])"
      ]
     },
     "execution_count": 41,
     "metadata": {},
     "output_type": "execute_result"
    }
   ],
   "source": [
    "columnk_M(M,2)"
   ]
  },
  {
   "cell_type": "code",
   "execution_count": 42,
   "metadata": {},
   "outputs": [],
   "source": [
    "def encode_mk(M,k,sign):\n",
    "    return sign*columnk_M(M,k)"
   ]
  },
  {
   "cell_type": "code",
   "execution_count": 52,
   "metadata": {},
   "outputs": [],
   "source": [
    "def compute_U(M,Y,j):\n",
    "    if j==0:\n",
    "        return Y\n",
    "    if j==1:\n",
    "        return np.dot(M, Y)\n",
    "    U_t = np.dot(compute_M(j-1),Y[0:int(CODEWORD_SIZE)/2])\n",
    "    U_b = np.dot(compute_M(j-1),Y[int(CODEWORD_SIZE)/2:])\n",
    "    return np.concatenate((U_t+U_b,U_t-U_b),axis=0)\n",
    "    \n",
    "    "
   ]
  },
  {
   "cell_type": "code",
   "execution_count": 53,
   "metadata": {},
   "outputs": [
    {
     "ename": "TypeError",
     "evalue": "slice indices must be integers or None or have an __index__ method",
     "output_type": "error",
     "traceback": [
      "\u001b[0;31m---------------------------------------------------------------------------\u001b[0m",
      "\u001b[0;31mTypeError\u001b[0m                                 Traceback (most recent call last)",
      "\u001b[0;32m<ipython-input-53-c187b7ac5660>\u001b[0m in \u001b[0;36m<module>\u001b[0;34m\u001b[0m\n\u001b[0;32m----> 1\u001b[0;31m \u001b[0mcompute_U\u001b[0m\u001b[0;34m(\u001b[0m\u001b[0mcompute_M\u001b[0m\u001b[0;34m(\u001b[0m\u001b[0mi\u001b[0m\u001b[0;34m)\u001b[0m\u001b[0;34m,\u001b[0m \u001b[0mencode_mk\u001b[0m\u001b[0;34m(\u001b[0m\u001b[0mcompute_M\u001b[0m\u001b[0;34m(\u001b[0m\u001b[0mi\u001b[0m\u001b[0;34m)\u001b[0m\u001b[0;34m,\u001b[0m \u001b[0;36m3\u001b[0m\u001b[0;34m,\u001b[0m \u001b[0;34m-\u001b[0m\u001b[0;36m1\u001b[0m\u001b[0;34m)\u001b[0m\u001b[0;34m,\u001b[0m \u001b[0mi\u001b[0m\u001b[0;34m)\u001b[0m\u001b[0;34m\u001b[0m\u001b[0;34m\u001b[0m\u001b[0m\n\u001b[0m",
      "\u001b[0;32m<ipython-input-52-e6d0398cced7>\u001b[0m in \u001b[0;36mcompute_U\u001b[0;34m(M, Y, j)\u001b[0m\n\u001b[1;32m      4\u001b[0m     \u001b[0;32mif\u001b[0m \u001b[0mj\u001b[0m\u001b[0;34m==\u001b[0m\u001b[0;36m1\u001b[0m\u001b[0;34m:\u001b[0m\u001b[0;34m\u001b[0m\u001b[0;34m\u001b[0m\u001b[0m\n\u001b[1;32m      5\u001b[0m         \u001b[0;32mreturn\u001b[0m \u001b[0mnp\u001b[0m\u001b[0;34m.\u001b[0m\u001b[0mdot\u001b[0m\u001b[0;34m(\u001b[0m\u001b[0mM\u001b[0m\u001b[0;34m,\u001b[0m \u001b[0mY\u001b[0m\u001b[0;34m)\u001b[0m\u001b[0;34m\u001b[0m\u001b[0;34m\u001b[0m\u001b[0m\n\u001b[0;32m----> 6\u001b[0;31m     \u001b[0mU_t\u001b[0m \u001b[0;34m=\u001b[0m \u001b[0mnp\u001b[0m\u001b[0;34m.\u001b[0m\u001b[0mdot\u001b[0m\u001b[0;34m(\u001b[0m\u001b[0mcompute_M\u001b[0m\u001b[0;34m(\u001b[0m\u001b[0mj\u001b[0m\u001b[0;34m-\u001b[0m\u001b[0;36m1\u001b[0m\u001b[0;34m)\u001b[0m\u001b[0;34m,\u001b[0m\u001b[0mY\u001b[0m\u001b[0;34m[\u001b[0m\u001b[0;36m0\u001b[0m\u001b[0;34m:\u001b[0m\u001b[0mint\u001b[0m\u001b[0;34m(\u001b[0m\u001b[0mCODEWORD_SIZE\u001b[0m\u001b[0;34m)\u001b[0m\u001b[0;34m/\u001b[0m\u001b[0;36m2\u001b[0m\u001b[0;34m]\u001b[0m\u001b[0;34m)\u001b[0m\u001b[0;34m\u001b[0m\u001b[0;34m\u001b[0m\u001b[0m\n\u001b[0m\u001b[1;32m      7\u001b[0m     \u001b[0mU_b\u001b[0m \u001b[0;34m=\u001b[0m \u001b[0mnp\u001b[0m\u001b[0;34m.\u001b[0m\u001b[0mdot\u001b[0m\u001b[0;34m(\u001b[0m\u001b[0mcompute_M\u001b[0m\u001b[0;34m(\u001b[0m\u001b[0mj\u001b[0m\u001b[0;34m-\u001b[0m\u001b[0;36m1\u001b[0m\u001b[0;34m)\u001b[0m\u001b[0;34m,\u001b[0m\u001b[0mY\u001b[0m\u001b[0;34m[\u001b[0m\u001b[0mint\u001b[0m\u001b[0;34m(\u001b[0m\u001b[0mCODEWORD_SIZE\u001b[0m\u001b[0;34m)\u001b[0m\u001b[0;34m/\u001b[0m\u001b[0;36m2\u001b[0m\u001b[0;34m:\u001b[0m\u001b[0;34m]\u001b[0m\u001b[0;34m)\u001b[0m\u001b[0;34m\u001b[0m\u001b[0;34m\u001b[0m\u001b[0m\n\u001b[1;32m      8\u001b[0m     \u001b[0;32mreturn\u001b[0m \u001b[0mnp\u001b[0m\u001b[0;34m.\u001b[0m\u001b[0mconcatenate\u001b[0m\u001b[0;34m(\u001b[0m\u001b[0;34m(\u001b[0m\u001b[0mU_t\u001b[0m\u001b[0;34m+\u001b[0m\u001b[0mU_b\u001b[0m\u001b[0;34m,\u001b[0m\u001b[0mU_t\u001b[0m\u001b[0;34m-\u001b[0m\u001b[0mU_b\u001b[0m\u001b[0;34m)\u001b[0m\u001b[0;34m,\u001b[0m\u001b[0maxis\u001b[0m\u001b[0;34m=\u001b[0m\u001b[0;36m0\u001b[0m\u001b[0;34m)\u001b[0m\u001b[0;34m\u001b[0m\u001b[0;34m\u001b[0m\u001b[0m\n",
      "\u001b[0;31mTypeError\u001b[0m: slice indices must be integers or None or have an __index__ method"
     ]
    }
   ],
   "source": [
    "compute_U(compute_M(i), encode_mk(compute_M(i), 3, -1), i)"
   ]
  },
  {
   "cell_type": "code",
   "execution_count": 11,
   "metadata": {},
   "outputs": [],
   "source": [
    "def decode_U(U,i):\n",
    "    Umax = U.max(axis=1)\n",
    "    Umin = U.min(axis=1)\n",
    "    k = np.where(-Umin > Umax, Umin, Umax)\n",
    "    if U[k]<0:\n",
    "        return -k\n",
    "    else :\n",
    "        return k"
   ]
  },
  {
   "cell_type": "code",
   "execution_count": 12,
   "metadata": {},
   "outputs": [],
   "source": [
    "def text_to_chunks(textfile,CHUNK_SIZE):\n",
    "    f=open(textfile,'rb')\n",
    "    data = f.read()\n",
    "    f.close()\n",
    "    noOfBytes = len(data)\n",
    "    noOfChunks= noOfBytes/CHUNK_SIZE\n",
    "    if(noOfBytes%CHUNK_SIZE):\n",
    "        noOfChunks+=1\n",
    "        \n",
    "    chunkVector = []\n",
    "    for i in range(0, noOfBytes+1, CHUNK_SIZE):\n",
    "        np.append(chunkVector,data[i:i+ CHUNK_SIZE])\n",
    "    \n",
    "    return chunkVector"
   ]
  },
  {
   "cell_type": "code",
   "execution_count": 13,
   "metadata": {},
   "outputs": [],
   "source": [
    "def chunks_to_text(fileName,chunkVector):\n",
    "    f = open(fileName, 'wb')\n",
    "    for chunk in chunkVector:\n",
    "        f.write(chunk)\n",
    "        f.close()\n",
    "    return fileName    "
   ]
  },
  {
   "cell_type": "code",
   "execution_count": 14,
   "metadata": {},
   "outputs": [],
   "source": [
    "def chunk_to_codewords(chunk,CHUNK_SIZE,epsilon):\n",
    "    i = CHUNK_SIZE-1\n",
    "    n = np.power(2,i)\n",
    "    M = compute_M(i)\n",
    "    chunkValue = chunk.dot(2**np.arange(chunkValue.size)[::-1])\n",
    "    k = chunkValue%2\n",
    "    if ((chunkValue/2) > n):\n",
    "        sign = -1\n",
    "    else :\n",
    "        sign = 1\n",
    "    return encode_mk(M,k,epsilon,n,sign)       "
   ]
  },
  {
   "cell_type": "code",
   "execution_count": 24,
   "metadata": {},
   "outputs": [],
   "source": [
    "def transmitter(filename):\n",
    "    n=np.power(2,15)\n",
    "    print(len(filename)*8)\n",
    "    CHUNK_SIZE = math.ceil(n/(len(filename)*8))\n",
    "    print(CHUNK_SIZE)\n",
    "    chunks = text_to_chunks(filename,CHUNK_SIZE)\n",
    "    message = []\n",
    "    for i in range (len(chunks)):\n",
    "        np.append(message,chunk_to_codewords(chunks[i],CHUNK_SIZE,n))\n",
    "    return np.savetxt(\"message.txt\", message, fmt=\"%s\")\n",
    "    "
   ]
  },
  {
   "cell_type": "code",
   "execution_count": 25,
   "metadata": {},
   "outputs": [],
   "source": [
    "def receiver(filename):\n",
    "    n=np.power(2,15)\n",
    "    i = math.log2(n)\n",
    "    CHUNK_SIZE = math.ceil(n/(len(filename)*8))\n",
    "    chunks = text_to_chunks(filename,CHUNK_SIZE)\n",
    "    M = compute_M(i)\n",
    "    message = []\n",
    "    for j in range (len(chunks)):\n",
    "        U = compute_U(M,chunk[j],i)\n",
    "        np.append(message,decode_U(U,j))\n",
    "    return np.savetxt(\"received.txt\", message, fmt=\"%s\")\n",
    "    \n",
    "        "
   ]
  },
  {
   "cell_type": "code",
   "execution_count": 26,
   "metadata": {
    "scrolled": true
   },
   "outputs": [
    {
     "name": "stdout",
     "output_type": "stream",
     "text": [
      "72\n",
      "456\n"
     ]
    }
   ],
   "source": [
    "transmitter(\"array.txt\")"
   ]
  },
  {
   "cell_type": "code",
   "execution_count": null,
   "metadata": {},
   "outputs": [],
   "source": []
  },
  {
   "cell_type": "code",
   "execution_count": null,
   "metadata": {},
   "outputs": [],
   "source": []
  }
 ],
 "metadata": {
  "kernelspec": {
   "display_name": "Python 3",
   "language": "python",
   "name": "python3"
  },
  "language_info": {
   "codemirror_mode": {
    "name": "ipython",
    "version": 3
   },
   "file_extension": ".py",
   "mimetype": "text/x-python",
   "name": "python",
   "nbconvert_exporter": "python",
   "pygments_lexer": "ipython3",
   "version": "3.7.7"
  }
 },
 "nbformat": 4,
 "nbformat_minor": 4
}
