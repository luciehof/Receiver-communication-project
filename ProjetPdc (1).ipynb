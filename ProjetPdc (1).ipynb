{
 "cells": [
  {
   "cell_type": "code",
   "execution_count": 1,
   "metadata": {},
   "outputs": [],
   "source": [
    "import numpy as np\n",
    "import math"
   ]
  },
  {
   "cell_type": "code",
   "execution_count": 2,
   "metadata": {},
   "outputs": [],
   "source": [
    "# GLOBAL VARIABLES\n",
    "# text of 80 chars -> 640 bits\n",
    "# we encode encode each bit into 51200/640 = 80 bits\n",
    "\n",
    "N = 40960 #max is 51200, 40960 = 64*640\n",
    "TOTAL_NB_CODEWORDS = 640 \n",
    "CODEWORD_SIZE = 64 # 64 is the closest power 2 to 80\n",
    "\n",
    "# with CODEWORD_SIZE = 2^i\n",
    "i = 6\n",
    "\n",
    "# M is CODEWORD_SIZE * CODEWORD_SIZE, we want sqrt(EPSILON/CODEWORD_SIZE) = 1\n",
    "EPSILON = CODEWORD_SIZE"
   ]
  },
  {
   "cell_type": "code",
   "execution_count": 3,
   "metadata": {},
   "outputs": [],
   "source": [
    "def compute_M(j):\n",
    "    if j== 0:\n",
    "        return np.array([1])\n",
    "    M_1 = np.array([[1,1],[1,-1]])\n",
    "    temp = M_1\n",
    "    for l in range (j-1):\n",
    "        up = np.concatenate((temp,temp), axis=1) \n",
    "        bottom = np.concatenate((temp,-temp), axis=1)\n",
    "        temp = np.concatenate((up,bottom), axis=0)\n",
    "    return temp"
   ]
  },
  {
   "cell_type": "code",
   "execution_count": 4,
   "metadata": {},
   "outputs": [
    {
     "name": "stdout",
     "output_type": "stream",
     "text": [
      "[[ 1  1  1  1]\n",
      " [ 1 -1  1 -1]\n",
      " [ 1  1 -1 -1]\n",
      " [ 1 -1 -1  1]]\n"
     ]
    }
   ],
   "source": [
    "M=compute_M(2)\n",
    "print(M)\n"
   ]
  },
  {
   "cell_type": "code",
   "execution_count": 5,
   "metadata": {},
   "outputs": [],
   "source": [
    "def columnk_M(M,k):\n",
    "    if M.shape == (1,):\n",
    "        return M[k-1]\n",
    "    return M[:,k-1]\n"
   ]
  },
  {
   "cell_type": "code",
   "execution_count": 6,
   "metadata": {},
   "outputs": [
    {
     "data": {
      "text/plain": [
       "array([ 1, -1,  1, -1])"
      ]
     },
     "execution_count": 6,
     "metadata": {},
     "output_type": "execute_result"
    }
   ],
   "source": [
    "columnk_M(M,2)"
   ]
  },
  {
   "cell_type": "code",
   "execution_count": 8,
   "metadata": {},
   "outputs": [],
   "source": [
    "def encode_mk(M,k,sign):\n",
    "    return (sign*columnk_M(M,k))"
   ]
  },
  {
   "cell_type": "code",
   "execution_count": 9,
   "metadata": {},
   "outputs": [
    {
     "name": "stdout",
     "output_type": "stream",
     "text": [
      "(1,)\n"
     ]
    }
   ],
   "source": [
    "M2=compute_M(0)\n",
    "print(M2.shape)"
   ]
  },
  {
   "cell_type": "code",
   "execution_count": 11,
   "metadata": {},
   "outputs": [
    {
     "name": "stdout",
     "output_type": "stream",
     "text": [
      "[-1 -1  1  1]\n"
     ]
    }
   ],
   "source": [
    "print(encode_mk(M,3,-1))"
   ]
  },
  {
   "cell_type": "code",
   "execution_count": 15,
   "metadata": {},
   "outputs": [],
   "source": [
    "def compute_U(M,Y,j):\n",
    "    if j==0:\n",
    "        return Y\n",
    "    if j==1:\n",
    "        return np.dot(M,Y)\n",
    "    U_bis = compute_M(j-1)\n",
    "    U_t = np.dot(U_bis,Y[0:int(CODEWORD_SIZE/2)])\n",
    "    U_b = np.dot(U_bis,Y[int(CODEWORD_SIZE/2):])\n",
    "    return np.concatenate((U_t+U_b,U_t-U_b),axis=0)   "
   ]
  },
  {
   "cell_type": "code",
   "execution_count": 17,
   "metadata": {},
   "outputs": [],
   "source": [
    "M1=compute_M(i)\n",
    "U1=compute_U(M1,encode_mk(M1,1,-1),i)"
   ]
  },
  {
   "cell_type": "code",
   "execution_count": 18,
   "metadata": {},
   "outputs": [],
   "source": [
    "def decode_U(U):\n",
    "    U_bis=abs(U)\n",
    "    k=np.argmax(U_bis)\n",
    "    if U[int(k)]<0:\n",
    "        return -(k+1)\n",
    "    else :\n",
    "        return k+1"
   ]
  },
  {
   "cell_type": "code",
   "execution_count": 19,
   "metadata": {},
   "outputs": [
    {
     "data": {
      "text/plain": [
       "-1"
      ]
     },
     "execution_count": 19,
     "metadata": {},
     "output_type": "execute_result"
    }
   ],
   "source": [
    "decode_U(U1)"
   ]
  },
  {
   "cell_type": "code",
   "execution_count": 21,
   "metadata": {},
   "outputs": [],
   "source": [
    "def text_to_bits(textfile): # we encode each text bit into CODEWORD_SIZE bits\n",
    "    f=open(textfile,'rb')\n",
    "    data = f.read()\n",
    "    f.close()\n",
    "    #noOfBytes = len(data)\n",
    "    #noOfChunks= noOfBytes/CHUNK_SIZE\n",
    "    #if(noOfBytes%CHUNK_SIZE):\n",
    "    #    noOfChunks+=1\n",
    "        \n",
    "    textBitVector = []\n",
    "    for i in range(0, TOTAL_NB_CODEWORDS+1, CODEWORD_SIZE):\n",
    "        np.append(textBitVector,data[i:i+ CODEWORD_SIZE])\n",
    "    \n",
    "    return textVector"
   ]
  },
  {
   "cell_type": "code",
   "execution_count": null,
   "metadata": {},
   "outputs": [],
   "source": [
    "def chunks_to_text(fileName,chunkVector):\n",
    "    f = open(fileName, 'wb')\n",
    "    for chunk in chunkVector:\n",
    "        f.write(chunk)\n",
    "        f.close()\n",
    "    return fileName   "
   ]
  },
  {
   "cell_type": "code",
   "execution_count": 114,
   "metadata": {},
   "outputs": [],
   "source": [
    "def chunk_to_codewords(chunk):\n",
    "    i = CHUNK_SIZE-1\n",
    "    n = np.power(2,i)\n",
    "    M = compute_M(i)\n",
    "    chunkValue = chunk.dot(2**np.arange(chunkValue.size)[::-1])\n",
    "    k = chunkValue%2\n",
    "    if ((chunkValue/2) > n):\n",
    "        sign = -1\n",
    "    else :\n",
    "        sign = 1\n",
    "    return encode_mk(M,k,epsilon,n,sign)       "
   ]
  },
  {
   "cell_type": "code",
   "execution_count": 12,
   "metadata": {},
   "outputs": [],
   "source": [
    "def transmitter(filename):\n",
    "    print(len(filename)*8)\n",
    "    textVector = text_to_chunks(filename)\n",
    "    message = []\n",
    "    for i in range (len(chunks)):\n",
    "        np.append(message,chunk_to_codewords(textVector[i],CODEWORD_SIZE,n))\n",
    "    return np.savetxt(\"message.txt\", message, fmt=\"%s\")\n",
    "    "
   ]
  },
  {
   "cell_type": "code",
   "execution_count": 13,
   "metadata": {},
   "outputs": [],
   "source": [
    "def receiver(filename):\n",
    "    n=np.power(2,15)\n",
    "    i = math.log2(n)\n",
    "    CHUNK_SIZE = math.ceil(n/(len(filename)*8))\n",
    "    chunks = text_to_chunks(filename,CHUNK_SIZE)\n",
    "    M = compute_M(i)\n",
    "    message = []\n",
    "    for j in range (len(chunks)):\n",
    "        U = compute_U(M,chunk[j],i)\n",
    "        np.append(message,decode_U(U,j))\n",
    "    return np.savetxt(\"received.txt\", message, fmt=\"%s\")\n",
    "    \n",
    "        "
   ]
  },
  {
   "cell_type": "code",
   "execution_count": 15,
   "metadata": {
    "scrolled": true
   },
   "outputs": [
    {
     "name": "stdout",
     "output_type": "stream",
     "text": [
      "216\n",
      "152\n"
     ]
    }
   ],
   "source": [
    "transmitter(\"C:/Users/julie/PDCproj1.txt\")"
   ]
  },
  {
   "cell_type": "code",
   "execution_count": null,
   "metadata": {},
   "outputs": [],
   "source": []
  },
  {
   "cell_type": "code",
   "execution_count": null,
   "metadata": {},
   "outputs": [],
   "source": []
  }
 ],
 "metadata": {
  "kernelspec": {
   "display_name": "Python 3",
   "language": "python",
   "name": "python3"
  },
  "language_info": {
   "codemirror_mode": {
    "name": "ipython",
    "version": 3
   },
   "file_extension": ".py",
   "mimetype": "text/x-python",
   "name": "python",
   "nbconvert_exporter": "python",
   "pygments_lexer": "ipython3",
   "version": "3.7.7"
  }
 },
 "nbformat": 4,
 "nbformat_minor": 4
}
