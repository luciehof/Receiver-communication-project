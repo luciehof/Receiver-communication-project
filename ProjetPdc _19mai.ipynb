{
 "cells": [
  {
   "cell_type": "markdown",
   "metadata": {},
   "source": [
    "### Transmission:\n",
    "We encode the 80 bytes textfile bit(byte) by bit(byte). <br>\n",
    "Each bit(byte) is encoded in a 1(128)-bits codeword. <br>\n",
    "We form an intermediary 80(512) bits vector X_i (for byte i) that consists of 80(4) repetitions of the codeword. <br>\n",
    "Once we've done this for all bytes in the textfile, we concatenate all intermediary vectors X_i to obtain a 640 * 80=51200(512 * 80=40960) bits vector X.\n",
    "\n",
    "##### Byte to codeword mapping:\n",
    "   Let k be the bit to encode. If k=1 then codeword = +1, if k=0 then codeword = -1.\n",
    "\n",
    "   (Let k be the value represented by the byte. <br>\n",
    "   Let l = k mod 128. <br>\n",
    "   The corresponding codeword is the l-th column of matrix M, with a + sign if l<= 128, - sign if l>128.)\n",
    "\n",
    "### Reception:\n",
    "We receive a 51200(40960) bits vector Y = X + Z, with Z_i iid N(0,11). <br>\n",
    "Divide Y in 51200/80(40960/80) intermediary subvectors Y_i of length 640(512) bits. <br>\n",
    "...\n"
   ]
  },
  {
   "cell_type": "code",
   "execution_count": 1,
   "metadata": {},
   "outputs": [],
   "source": [
    "import numpy as np\n",
    "import math"
   ]
  },
  {
   "cell_type": "code",
   "execution_count": 2,
   "metadata": {},
   "outputs": [],
   "source": [
    "# GLOBAL VARIABLES\n",
    "\n",
    "N = 51200 #40960\n",
    "CODEWORD_SIZE = 128 #if m = 2⁸, m = 2n => n = 2⁷\n",
    "X_I_SIZE = 640 #512\n",
    "REPETITION = 5 #4\n",
    "\n",
    "# with CODEWORD_SIZE = 2^i\n",
    "i = 7"
   ]
  },
  {
   "cell_type": "markdown",
   "metadata": {},
   "source": [
    "## Transmission"
   ]
  },
  {
   "cell_type": "code",
   "execution_count": 3,
   "metadata": {},
   "outputs": [],
   "source": [
    "def compute_M(j):\n",
    "    if j== 0:\n",
    "        return np.array([1])\n",
    "    M_1 = np.array([[1,1],[1,-1]])\n",
    "    temp = M_1\n",
    "    for l in range (j-1):\n",
    "        up = np.concatenate((temp,temp), axis=1) \n",
    "        bottom = np.concatenate((temp,-temp), axis=1)\n",
    "        temp = np.concatenate((up,bottom), axis=0)\n",
    "    return temp"
   ]
  },
  {
   "cell_type": "code",
   "execution_count": 4,
   "metadata": {},
   "outputs": [],
   "source": [
    "def columnk_M(M,k):\n",
    "    if M.shape == (1,):\n",
    "        return M[0]\n",
    "    if k>=0 and k<np.size(M, 1):\n",
    "        return M[:,k-1]\n",
    "    else:\n",
    "        print(\"bad index for column: \"+str(k))\n"
   ]
  },
  {
   "cell_type": "code",
   "execution_count": 5,
   "metadata": {},
   "outputs": [],
   "source": [
    "def encode_mk(M,k,sign):\n",
    "    return (sign*columnk_M(M,k))"
   ]
  },
  {
   "cell_type": "code",
   "execution_count": 6,
   "metadata": {},
   "outputs": [],
   "source": [
    "def transmitter3(filename):\n",
    "    \n",
    "    f=open(filename, 'rb')\n",
    "    data = f.read()\n",
    "    f.close()\n",
    "    X = np.array([])\n",
    "    sign = 1\n",
    "    print (\"len data = \")\n",
    "    print (len(data))\n",
    "    print(\"last byte = \")\n",
    "    print(data[len(data)-1])\n",
    "    for j in range (len(data)-1):\n",
    "        #print (data[j])\n",
    "        \n",
    "        # get the byte\n",
    "        if (data[j]<=CODEWORD_SIZE):\n",
    "            sign = 1\n",
    "        else :\n",
    "            sign = -1\n",
    "        \n",
    "        l = np.mod(data[j], CODEWORD_SIZE)\n",
    "            \n",
    "        # create intermediary REPETITION*CODEWORD_SIZE bits X_i\n",
    "        X_i = np.array([])\n",
    "        for r in range (REPETITION):\n",
    "            V = encode_mk(compute_M(i),l,sign)\n",
    "            X_i = np.concatenate((X_i,V), axis=0)\n",
    "        \n",
    "        # append intermediary X_i to N-bits vector X\n",
    "        X = np.concatenate((X,X_i), axis=0)\n",
    "        \n",
    "    print (\"X size = \")\n",
    "    print (X.size)\n",
    "\n",
    "    return np.savetxt(\"signalX.txt\", X, fmt=\"%s\")\n",
    "    "
   ]
  },
  {
   "cell_type": "code",
   "execution_count": 33,
   "metadata": {},
   "outputs": [
    {
     "name": "stdout",
     "output_type": "stream",
     "text": [
      "len data = \n",
      "81\n",
      "last byte = \n",
      "10\n",
      "X size = \n",
      "51200\n"
     ]
    }
   ],
   "source": [
    "transmitter3(\"pdc_input_alphabet.txt\")"
   ]
  },
  {
   "cell_type": "code",
   "execution_count": 34,
   "metadata": {},
   "outputs": [
    {
     "name": "stdout",
     "output_type": "stream",
     "text": [
      "os.stat_result(st_mode=33204, st_ino=20983818, st_dev=66307, st_nlink=1, st_uid=1001, st_gid=1001, st_size=81, st_atime=1591097537, st_mtime=1589307782, st_ctime=1591094098)\n"
     ]
    }
   ],
   "source": [
    "import os\n",
    "print(os.stat(\"pdc_input_alphabet.txt\"))"
   ]
  },
  {
   "cell_type": "code",
   "execution_count": 40,
   "metadata": {},
   "outputs": [
    {
     "name": "stdout",
     "output_type": "stream",
     "text": [
      "len data = \n",
      "230400\n",
      "1\n"
     ]
    }
   ],
   "source": [
    "f=open(\"signalX.txt\", 'rb')\n",
    "data1 = f.read()\n",
    "f.close()\n",
    "print (\"len data = \")\n",
    "print (len(data1))\n",
    "print(chr(data1[len(data)-1]))"
   ]
  },
  {
   "cell_type": "code",
   "execution_count": 12,
   "metadata": {},
   "outputs": [],
   "source": [
    "#Remove last blank byte from textfile for linux system:\n",
    "# truncate -s -1 file"
   ]
  },
  {
   "cell_type": "code",
   "execution_count": 41,
   "metadata": {},
   "outputs": [
    {
     "name": "stdout",
     "output_type": "stream",
     "text": [
      "len data = \n",
      "230399\n"
     ]
    }
   ],
   "source": [
    "f=open(\"signalX.txt\", 'rb')\n",
    "data2 = f.read()\n",
    "f.close()\n",
    "print (\"len data = \")\n",
    "print (len(data2))"
   ]
  },
  {
   "cell_type": "code",
   "execution_count": 42,
   "metadata": {},
   "outputs": [
    {
     "data": {
      "text/plain": [
       "51200"
      ]
     },
     "execution_count": 42,
     "metadata": {},
     "output_type": "execute_result"
    }
   ],
   "source": [
    "tx_p_signal = np.loadtxt(\"signalX.txt\")\n",
    "len(tx_p_signal)"
   ]
  },
  {
   "cell_type": "markdown",
   "metadata": {},
   "source": [
    "    python3 client.py --input_file=signalX.txt --output_file=output.txt --srv_hostname=iscsrv72.epfl.ch --srv_port=80"
   ]
  },
  {
   "cell_type": "markdown",
   "metadata": {},
   "source": [
    "## Reception"
   ]
  },
  {
   "cell_type": "code",
   "execution_count": 22,
   "metadata": {},
   "outputs": [],
   "source": [
    "# Y_i is a X_I_SIZE-bits subvector of N-bits Y.\n",
    "# j should correspond to the global var i\n",
    "\n",
    "def compute_U(M,Y_i,j): \n",
    "    if j==0:\n",
    "        return Y_i\n",
    "    if j==1:\n",
    "        return np.dot(M,Y_i)\n",
    "    U_bis = compute_M(j-1)\n",
    "    \n",
    "    U_t = np.dot(U_bis,Y_i[0:int(CODEWORD_SIZE/2)])\n",
    "    U_b = np.dot(U_bis,Y_i[int(CODEWORD_SIZE/2):])\n",
    "    return np.concatenate((U_t+U_b,U_t-U_b),axis=0)   "
   ]
  },
  {
   "cell_type": "code",
   "execution_count": 23,
   "metadata": {},
   "outputs": [],
   "source": [
    "def decode_U(U): # returns the value of the decoded text byte\n",
    "    U_bis=abs(U)\n",
    "    k=np.argmax(U_bis)\n",
    "    if U[int(k)]<0:\n",
    "        return -(k+1)\n",
    "    else :\n",
    "        return k+1"
   ]
  },
  {
   "cell_type": "code",
   "execution_count": 24,
   "metadata": {},
   "outputs": [],
   "source": [
    "def receiver(filename):\n",
    "    \n",
    "    # open filename to get corresponding binary vector (N-bits) Y\n",
    "    Y = np.genfromtxt(filename)\n",
    "    Y=list(Y)\n",
    "    output = open(\"decoded_text.txt\", 'w')\n",
    "    Y_0 = np.array([])\n",
    "    Y_1 = np.array([])\n",
    "    Y_2 = np.array([])\n",
    "    Y_3 = np.array([])\n",
    "    \n",
    "    # for all subvector (X_I_SIZE) Y_i in Y, we decode the corresponding byte\n",
    "    for j in range(0,X_I_SIZE*80, X_I_SIZE):\n",
    "        Y_i = Y[j:j+X_I_SIZE]\n",
    "        #print (Y_i)\n",
    "        Y_0 = Y_i[0:128]\n",
    "        Y_1 = Y_i[128:256]\n",
    "        Y_2 = Y_i[256:384]\n",
    "        Y_3 = Y_i[384:512]\n",
    "        curr_byte = decode_U(compute_U(compute_M(i), Y_0, i)+compute_U(compute_M(i), Y_1, i)+compute_U(compute_M(i), Y_2, i)+compute_U(compute_M(i), Y_3, i))\n",
    "        #print(curr_byte)\n",
    "        print(chr(curr_byte))\n",
    "        \n",
    "        # each time we get a byte, we write it in a new output file\n",
    "        output.write(chr(curr_byte))\n",
    "        \n",
    "    output.close()\n",
    "        "
   ]
  },
  {
   "cell_type": "code",
   "execution_count": 25,
   "metadata": {
    "scrolled": true
   },
   "outputs": [
    {
     "name": "stdout",
     "output_type": "stream",
     "text": [
      "T\n",
      "h\n",
      "i\n",
      "s\n",
      " \n",
      "t\n",
      "e\n",
      "x\n",
      "t\n",
      " \n",
      "t\n",
      "e\n",
      "a\n",
      "c\n",
      "h\n",
      "e\n",
      "s\n",
      " \n",
      "b\n",
      "a\n",
      "s\n",
      "i\n",
      "c\n",
      "s\n",
      " \n",
      "d\n",
      "i\n",
      "g\n",
      "i\n",
      "t\n",
      "a\n",
      "l\n",
      " \n",
      "c\n",
      "o\n",
      "m\n",
      "m\n",
      "u\n",
      "n\n",
      "i\n",
      "c\n",
      "a\n",
      "t\n",
      "i\n",
      "o\n",
      "n\n",
      " \n",
      "v\n",
      "i\n",
      "a\n",
      " \n",
      "a\n",
      " \n",
      "t\n",
      "o\n",
      "p\n",
      "-\n",
      "d\n",
      "o\n",
      "w\n",
      "n\n",
      "-\n",
      "r\n",
      "e\n",
      "s\n",
      "e\n",
      "r\n",
      "v\n",
      "e\n",
      "d\n",
      " \n",
      "a\n",
      "p\n",
      "p\n",
      "r\n",
      "o\n",
      "a\n",
      "c\n",
      "h\n",
      ".\n"
     ]
    }
   ],
   "source": [
    "receiver(\"output.txt\")"
   ]
  },
  {
   "cell_type": "markdown",
   "metadata": {},
   "source": [
    "## All together:"
   ]
  },
  {
   "cell_type": "code",
   "execution_count": 43,
   "metadata": {},
   "outputs": [
    {
     "name": "stdout",
     "output_type": "stream",
     "text": [
      "[[ 1  1  1  1]\n",
      " [ 1 -1  1 -1]\n",
      " [ 1  1 -1 -1]\n",
      " [ 1 -1 -1  1]]\n"
     ]
    }
   ],
   "source": [
    "M=compute_M(2)\n",
    "print(M)\n"
   ]
  },
  {
   "cell_type": "code",
   "execution_count": 45,
   "metadata": {},
   "outputs": [
    {
     "data": {
      "text/plain": [
       "array([ 1, -1,  1, -1])"
      ]
     },
     "execution_count": 45,
     "metadata": {},
     "output_type": "execute_result"
    }
   ],
   "source": [
    "columnk_M(M,2)"
   ]
  },
  {
   "cell_type": "code",
   "execution_count": 47,
   "metadata": {},
   "outputs": [
    {
     "name": "stdout",
     "output_type": "stream",
     "text": [
      "(1,)\n"
     ]
    }
   ],
   "source": [
    "M2=compute_M(0)\n",
    "print(M2.shape)"
   ]
  },
  {
   "cell_type": "code",
   "execution_count": 48,
   "metadata": {},
   "outputs": [
    {
     "name": "stdout",
     "output_type": "stream",
     "text": [
      "[-1 -1  1  1]\n"
     ]
    }
   ],
   "source": [
    "print(encode_mk(M,3,-1))"
   ]
  },
  {
   "cell_type": "code",
   "execution_count": 50,
   "metadata": {},
   "outputs": [],
   "source": [
    "M1=compute_M(i)\n",
    "U1=compute_U(M1,encode_mk(M1,1,-1),i)"
   ]
  },
  {
   "cell_type": "code",
   "execution_count": 52,
   "metadata": {},
   "outputs": [
    {
     "data": {
      "text/plain": [
       "-1"
      ]
     },
     "execution_count": 52,
     "metadata": {},
     "output_type": "execute_result"
    }
   ],
   "source": [
    "decode_U(U1)"
   ]
  },
  {
   "cell_type": "code",
   "execution_count": 57,
   "metadata": {},
   "outputs": [
    {
     "data": {
      "text/plain": [
       "b'az'"
      ]
     },
     "execution_count": 57,
     "metadata": {},
     "output_type": "execute_result"
    }
   ],
   "source": [
    "f = open(\"pdc_input_alphabet.txt\", 'rb')\n",
    "Y = f.read(2)\n",
    "f.close()\n",
    "Y"
   ]
  },
  {
   "cell_type": "code",
   "execution_count": null,
   "metadata": {},
   "outputs": [],
   "source": []
  }
 ],
 "metadata": {
  "kernelspec": {
   "display_name": "Python 3",
   "language": "python",
   "name": "python3"
  },
  "language_info": {
   "codemirror_mode": {
    "name": "ipython",
    "version": 3
   },
   "file_extension": ".py",
   "mimetype": "text/x-python",
   "name": "python",
   "nbconvert_exporter": "python",
   "pygments_lexer": "ipython3",
   "version": "3.7.7"
  }
 },
 "nbformat": 4,
 "nbformat_minor": 4
}
