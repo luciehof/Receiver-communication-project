{
 "cells": [
  {
   "cell_type": "markdown",
   "metadata": {},
   "source": [
    "### Transmission:\n",
    "We encode the 80 bytes textfile bit(byte) by bit(byte). <br>\n",
    "Each bit(byte) is encoded in a 1(128)-bits codeword=column of matrix M, with a + or - sign. <br>\n",
    "We form an intermediary 80(640) bits vector X_i (for byte i) that consists of 80(5) repetitions of the codeword. <br>\n",
    "Once we've done this for all bytes in the textfile, we concatenate all intermediary vectors X_i to obtain a 640 * 80=51200 bits vector X.\n",
    "\n",
    "##### Byte to codeword mapping:\n",
    "   Let k be the bit to encode. If k=1 then codeword = +1, if k=0 then codeword = -1.\n",
    "\n",
    "   (Let k be the value represented by the byte. <br>\n",
    "   Let l = k mod 128. <br>\n",
    "   The corresponding codeword is the l-th column of matrix M, with a + sign if l<= 128, - sign if l>128.)\n",
    "\n",
    "### Reception:\n",
    "We receive a 51200 bits vector Y = X + Z, with Z_i iid N(0,11). <br>\n",
    "Divide Y in 51200/80 intermediary subvectors Y_i of length 640 bits. <br>\n",
    "...\n"
   ]
  },
  {
   "cell_type": "code",
   "execution_count": 1,
   "metadata": {},
   "outputs": [],
   "source": [
    "import numpy as np\n",
    "import math"
   ]
  },
  {
   "cell_type": "code",
   "execution_count": 2,
   "metadata": {},
   "outputs": [],
   "source": [
    "# GLOBAL VARIABLES\n",
    "# text of 80 chars -> 640 bits\n",
    "# we encode each bit into 51200/640 = 80 bits\n",
    "# each byte is encoded with 80*8 bits = 640 bits -> 2^9 \n",
    "\n",
    "N = 51200\n",
    "M_COLUMN_SIZE = 128 #if m = 2⁸, m = 2n => n = 2⁷\n",
    "REPETITION = 5\n",
    "INTERMEDIARY_SIZE = M_COLUMN_SIZE*REPETITION #128*5\n",
    "\n",
    "# with CODEWORD_SIZE = 2^i\n",
    "i = 7\n",
    "\n",
    "# M is CODEWORD_SIZE * CODEWORD_SIZE, we want sqrt(EPSILON/CODEWORD_SIZE) = 1\n",
    "EPSILON = M_COLUMN_SIZE #s(never used)\n",
    "\n",
    "\n",
    "# M is a matrix 2^8 rows *2^8 columns \n",
    "# we encode 8 bits so 2^8=256 values possible \n",
    "# there are 512 possible codewords so we can make a repetition code \n",
    "# bytes go from 0 to 256 \n",
    "# we can map to one of the 2^8 columns with a + or - sign \n",
    "# if the number is even we encode B(= the binary value of the byte) to column B with +sign of M  \n",
    "# if the number is odd we encode B(= the binary value of the byte) to column B with -sign of M  \n",
    "\n",
    "### but this means we never use the codeword column +B, where B is odd, idem for -B when B even."
   ]
  },
  {
   "cell_type": "markdown",
   "metadata": {},
   "source": [
    "## Transmission"
   ]
  },
  {
   "cell_type": "code",
   "execution_count": 3,
   "metadata": {},
   "outputs": [],
   "source": [
    "def compute_M(j):\n",
    "    if j== 0:\n",
    "        return np.array([1])\n",
    "    M_1 = np.array([[1,1],[1,-1]])\n",
    "    temp = M_1\n",
    "    for l in range (j-1):\n",
    "        up = np.concatenate((temp,temp), axis=1) \n",
    "        bottom = np.concatenate((temp,-temp), axis=1)\n",
    "        temp = np.concatenate((up,bottom), axis=0)\n",
    "    return temp"
   ]
  },
  {
   "cell_type": "code",
   "execution_count": 4,
   "metadata": {},
   "outputs": [],
   "source": [
    "def columnk_M(M,k):\n",
    "    if M.shape == (1,):\n",
    "        return M[0]\n",
    "    if k>=0 and k<np.size(M, 1):\n",
    "        return M[:,k-1]\n",
    "    else:\n",
    "        print(\"bad index for column: \"+str(k))\n"
   ]
  },
  {
   "cell_type": "code",
   "execution_count": 5,
   "metadata": {},
   "outputs": [],
   "source": [
    "def encode_mk(M,k,sign):\n",
    "    return (sign*columnk_M(M,k))"
   ]
  },
  {
   "cell_type": "code",
   "execution_count": 7,
   "metadata": {},
   "outputs": [],
   "source": [
    "def transmitter3(filename):\n",
    "    \n",
    "    f=open(filename, 'rb')\n",
    "    data = f.read()\n",
    "    f.close()\n",
    "    X = np.array([])\n",
    "    sign = 1\n",
    "    for j in range (len(data)):\n",
    "        \n",
    "        # get the byte\n",
    "        if (data[j]<=M_COLUMN_SIZE):\n",
    "            sign = 1\n",
    "        else :\n",
    "            sign = -1\n",
    "        \n",
    "        l = np.mod(data[j], M_COLUMN_SIZE)\n",
    "            \n",
    "        # create intermediary REPETITION*M_COLUMN_SIZE bits X_i\n",
    "        X_i = np.array([])\n",
    "        for r in range (REPETITION):\n",
    "            V = encode_mk(compute_M(i),l,sign)\n",
    "            X_i = np.concatenate((X_i,V), axis=0)\n",
    "            \n",
    "        # append intermediary X_i to N-bits vector X\n",
    "        X = np.concatenate((X,X_i), axis=0)\n",
    "\n",
    "    return np.savetxt(\"signalX.txt\", X, fmt=\"%s\")\n",
    "    \n",
    "    "
   ]
  },
  {
   "cell_type": "code",
   "execution_count": 8,
   "metadata": {},
   "outputs": [],
   "source": [
    "transmitter3(\"pdc_input_alphabet.txt\")"
   ]
  },
  {
   "cell_type": "markdown",
   "metadata": {},
   "source": [
    "    python3 client.py --input_file=signalX.txt --output_file=output.txt --srv_hostname=iscsrv72.epfl.ch --srv_port=80 "
   ]
  },
  {
   "cell_type": "markdown",
   "metadata": {},
   "source": [
    "## Reception"
   ]
  },
  {
   "cell_type": "code",
   "execution_count": 38,
   "metadata": {},
   "outputs": [],
   "source": [
    "# Y_i is a INTERMEDIARY_SIZE-bits subvector of N-bits Y.\n",
    "# j should correspond to the global var i\n",
    "\n",
    "def compute_U(M,Y_i,j): \n",
    "    if j==0:\n",
    "        return Y_i\n",
    "    if j==1:\n",
    "        return np.dot(M,Y_i)\n",
    "    U_bis = compute_M(j-1)\n",
    "    U_t = np.dot(U_bis,Y_i[0:int(M_COLUMN_SIZE/2)])\n",
    "    U_b = np.dot(U_bis,Y_i[int(M_COLUMN_SIZE/2):])\n",
    "    return np.concatenate((U_t+U_b,U_t-U_b),axis=0)   "
   ]
  },
  {
   "cell_type": "code",
   "execution_count": 39,
   "metadata": {},
   "outputs": [],
   "source": [
    "def decode_U(U): # returns the value of the decoded text byte\n",
    "    U_bis=abs(U)\n",
    "    k=np.argmax(U_bis)\n",
    "    if U[int(k)]<0:\n",
    "        return -(k+1)\n",
    "    else :\n",
    "        return k+1"
   ]
  },
  {
   "cell_type": "code",
   "execution_count": 33,
   "metadata": {},
   "outputs": [
    {
     "data": {
      "text/plain": [
       "array([ 97., 122., 101., 114., 116., 121., 117., 105., 111., 112., 113.,\n",
       "       115., 100., 102., 103., 104., 106., 107., 108., 109., 119., 120.,\n",
       "        99., 118.,  98., 110.,  97., 122., 101., 114., 116., 121., 117.,\n",
       "       105., 111., 112., 113., 115., 100., 102., 103., 104., 106., 107.,\n",
       "       108., 109., 119., 120.,  99., 118.,  98., 110.,  97., 122., 101.,\n",
       "       114., 116., 121., 117., 105., 111., 112., 113., 115., 100., 102.,\n",
       "       103., 104., 106., 107., 108., 109., 119., 120.,  99., 118.,  98.,\n",
       "       110.,  97., 122.,  10.])"
      ]
     },
     "execution_count": 33,
     "metadata": {},
     "output_type": "execute_result"
    }
   ],
   "source": [
    "# import the names of the months from month.txt as a numpy array\n",
    "#months = np.genfromtxt(\"pdc_input_alphabet.txt\", dtype='byte') \n",
    "#array = np.array([])\n",
    "f=open(\"pdc_input_alphabet.txt\", 'rb')\n",
    "Y = f.read(1)\n",
    "#type(Y)\n",
    "arr = np.array([])\n",
    "while Y:\n",
    "    arr = np.append(arr, Y[0])\n",
    "    Y = f.read(1)\n",
    "arr"
   ]
  },
  {
   "cell_type": "code",
   "execution_count": 40,
   "metadata": {},
   "outputs": [],
   "source": [
    "def receiver(filename):\n",
    "    \n",
    "    # open filename to get corresponding binary vector (N-bits) Y\n",
    "    f=open(filename, 'rb')\n",
    "    Y = f.read(1)    \n",
    "    Y_arr = np.array([])\n",
    "    while Y:\n",
    "        Y_arr = np.append(arr, Y[0])\n",
    "        Y = f.read(1)\n",
    "    f.close()\n",
    "    \n",
    "    output = open(\"decoded_text.txt\", 'wb')\n",
    "    \n",
    "    Y_0 = np.array([])\n",
    "    Y_1 = np.array([])\n",
    "    Y_2 = np.array([])\n",
    "    Y_3 = np.array([])\n",
    "    \n",
    "    # for all subvector (INTERMEDIARY_SIZE) Y_i in Y, we decode the corresponding byte\n",
    "    for j in range(0,80, INTERMEDIARY_SIZE):\n",
    "        Y_i = Y_arr[j:j+INTERMEDIARY_SIZE]\n",
    "        #print (Y_i)\n",
    "        Y_0 = Y_i[0:128]\n",
    "        Y_1 = Y_i[128:256]\n",
    "        Y_2 = Y_i[256:384]\n",
    "        Y_3 = Y_i[384:512]\n",
    "        #print (Y_0)\n",
    "        #print (Y_1)\n",
    "        #print (Y_2)\n",
    "        #print (Y_3)\n",
    "        print (compute_U(compute_M(i), Y_0, i))\n",
    "        curr_byte0 = decode_U(compute_U(compute_M(i), Y_0, i))\n",
    "        curr_byte1 = decode_U(compute_U(compute_M(i), Y_1, i))\n",
    "        curr_byte2 = decode_U(compute_U(compute_M(i), Y_2, i))\n",
    "        curr_byte3 = decode_U(compute_U(compute_M(i), Y_3, i))\n",
    "        print (curr_byte0)\n",
    "        print (curr_byte1)\n",
    "        print (curr_byte2)\n",
    "        print (curr_byte3)\n",
    "\n",
    "        # each time we get a byte, we write it in a new output file\n",
    "        output.write(curr_byte)\n",
    "        \n",
    "    output.close()\n",
    "        "
   ]
  },
  {
   "cell_type": "code",
   "execution_count": 41,
   "metadata": {},
   "outputs": [
    {
     "ename": "ValueError",
     "evalue": "shapes (64,64) and (0,) not aligned: 64 (dim 1) != 0 (dim 0)",
     "output_type": "error",
     "traceback": [
      "\u001b[0;31m---------------------------------------------------------------------------\u001b[0m",
      "\u001b[0;31mValueError\u001b[0m                                Traceback (most recent call last)",
      "\u001b[0;32m<ipython-input-41-39857ed35832>\u001b[0m in \u001b[0;36m<module>\u001b[0;34m\u001b[0m\n\u001b[0;32m----> 1\u001b[0;31m \u001b[0mreceiver\u001b[0m\u001b[0;34m(\u001b[0m\u001b[0;34m\"output.txt\"\u001b[0m\u001b[0;34m)\u001b[0m\u001b[0;34m\u001b[0m\u001b[0;34m\u001b[0m\u001b[0m\n\u001b[0m",
      "\u001b[0;32m<ipython-input-40-4ce7b68adc55>\u001b[0m in \u001b[0;36mreceiver\u001b[0;34m(filename)\u001b[0m\n\u001b[1;32m     29\u001b[0m         \u001b[0;31m#print (Y_2)\u001b[0m\u001b[0;34m\u001b[0m\u001b[0;34m\u001b[0m\u001b[0;34m\u001b[0m\u001b[0m\n\u001b[1;32m     30\u001b[0m         \u001b[0;31m#print (Y_3)\u001b[0m\u001b[0;34m\u001b[0m\u001b[0;34m\u001b[0m\u001b[0;34m\u001b[0m\u001b[0m\n\u001b[0;32m---> 31\u001b[0;31m         \u001b[0mprint\u001b[0m \u001b[0;34m(\u001b[0m\u001b[0mcompute_U\u001b[0m\u001b[0;34m(\u001b[0m\u001b[0mcompute_M\u001b[0m\u001b[0;34m(\u001b[0m\u001b[0mi\u001b[0m\u001b[0;34m)\u001b[0m\u001b[0;34m,\u001b[0m \u001b[0mY_0\u001b[0m\u001b[0;34m,\u001b[0m \u001b[0mi\u001b[0m\u001b[0;34m)\u001b[0m\u001b[0;34m)\u001b[0m\u001b[0;34m\u001b[0m\u001b[0;34m\u001b[0m\u001b[0m\n\u001b[0m\u001b[1;32m     32\u001b[0m         \u001b[0mcurr_byte0\u001b[0m \u001b[0;34m=\u001b[0m \u001b[0mdecode_U\u001b[0m\u001b[0;34m(\u001b[0m\u001b[0mcompute_U\u001b[0m\u001b[0;34m(\u001b[0m\u001b[0mcompute_M\u001b[0m\u001b[0;34m(\u001b[0m\u001b[0mi\u001b[0m\u001b[0;34m)\u001b[0m\u001b[0;34m,\u001b[0m \u001b[0mY_0\u001b[0m\u001b[0;34m,\u001b[0m \u001b[0mi\u001b[0m\u001b[0;34m)\u001b[0m\u001b[0;34m)\u001b[0m\u001b[0;34m\u001b[0m\u001b[0;34m\u001b[0m\u001b[0m\n\u001b[1;32m     33\u001b[0m         \u001b[0mcurr_byte1\u001b[0m \u001b[0;34m=\u001b[0m \u001b[0mdecode_U\u001b[0m\u001b[0;34m(\u001b[0m\u001b[0mcompute_U\u001b[0m\u001b[0;34m(\u001b[0m\u001b[0mcompute_M\u001b[0m\u001b[0;34m(\u001b[0m\u001b[0mi\u001b[0m\u001b[0;34m)\u001b[0m\u001b[0;34m,\u001b[0m \u001b[0mY_1\u001b[0m\u001b[0;34m,\u001b[0m \u001b[0mi\u001b[0m\u001b[0;34m)\u001b[0m\u001b[0;34m)\u001b[0m\u001b[0;34m\u001b[0m\u001b[0;34m\u001b[0m\u001b[0m\n",
      "\u001b[0;32m<ipython-input-38-f17f49184b08>\u001b[0m in \u001b[0;36mcompute_U\u001b[0;34m(M, Y_i, j)\u001b[0m\n\u001b[1;32m      8\u001b[0m         \u001b[0;32mreturn\u001b[0m \u001b[0mnp\u001b[0m\u001b[0;34m.\u001b[0m\u001b[0mdot\u001b[0m\u001b[0;34m(\u001b[0m\u001b[0mM\u001b[0m\u001b[0;34m,\u001b[0m\u001b[0mY_i\u001b[0m\u001b[0;34m)\u001b[0m\u001b[0;34m\u001b[0m\u001b[0;34m\u001b[0m\u001b[0m\n\u001b[1;32m      9\u001b[0m     \u001b[0mU_bis\u001b[0m \u001b[0;34m=\u001b[0m \u001b[0mcompute_M\u001b[0m\u001b[0;34m(\u001b[0m\u001b[0mj\u001b[0m\u001b[0;34m-\u001b[0m\u001b[0;36m1\u001b[0m\u001b[0;34m)\u001b[0m\u001b[0;34m\u001b[0m\u001b[0;34m\u001b[0m\u001b[0m\n\u001b[0;32m---> 10\u001b[0;31m     \u001b[0mU_t\u001b[0m \u001b[0;34m=\u001b[0m \u001b[0mnp\u001b[0m\u001b[0;34m.\u001b[0m\u001b[0mdot\u001b[0m\u001b[0;34m(\u001b[0m\u001b[0mU_bis\u001b[0m\u001b[0;34m,\u001b[0m\u001b[0mY_i\u001b[0m\u001b[0;34m[\u001b[0m\u001b[0;36m0\u001b[0m\u001b[0;34m:\u001b[0m\u001b[0mint\u001b[0m\u001b[0;34m(\u001b[0m\u001b[0mM_COLUMN_SIZE\u001b[0m\u001b[0;34m/\u001b[0m\u001b[0;36m2\u001b[0m\u001b[0;34m)\u001b[0m\u001b[0;34m]\u001b[0m\u001b[0;34m)\u001b[0m\u001b[0;34m\u001b[0m\u001b[0;34m\u001b[0m\u001b[0m\n\u001b[0m\u001b[1;32m     11\u001b[0m     \u001b[0mU_b\u001b[0m \u001b[0;34m=\u001b[0m \u001b[0mnp\u001b[0m\u001b[0;34m.\u001b[0m\u001b[0mdot\u001b[0m\u001b[0;34m(\u001b[0m\u001b[0mU_bis\u001b[0m\u001b[0;34m,\u001b[0m\u001b[0mY_i\u001b[0m\u001b[0;34m[\u001b[0m\u001b[0mint\u001b[0m\u001b[0;34m(\u001b[0m\u001b[0mM_COLUMN_SIZE\u001b[0m\u001b[0;34m/\u001b[0m\u001b[0;36m2\u001b[0m\u001b[0;34m)\u001b[0m\u001b[0;34m:\u001b[0m\u001b[0;34m]\u001b[0m\u001b[0;34m)\u001b[0m\u001b[0;34m\u001b[0m\u001b[0;34m\u001b[0m\u001b[0m\n\u001b[1;32m     12\u001b[0m     \u001b[0;32mreturn\u001b[0m \u001b[0mnp\u001b[0m\u001b[0;34m.\u001b[0m\u001b[0mconcatenate\u001b[0m\u001b[0;34m(\u001b[0m\u001b[0;34m(\u001b[0m\u001b[0mU_t\u001b[0m\u001b[0;34m+\u001b[0m\u001b[0mU_b\u001b[0m\u001b[0;34m,\u001b[0m\u001b[0mU_t\u001b[0m\u001b[0;34m-\u001b[0m\u001b[0mU_b\u001b[0m\u001b[0;34m)\u001b[0m\u001b[0;34m,\u001b[0m\u001b[0maxis\u001b[0m\u001b[0;34m=\u001b[0m\u001b[0;36m0\u001b[0m\u001b[0;34m)\u001b[0m\u001b[0;34m\u001b[0m\u001b[0;34m\u001b[0m\u001b[0m\n",
      "\u001b[0;32m<__array_function__ internals>\u001b[0m in \u001b[0;36mdot\u001b[0;34m(*args, **kwargs)\u001b[0m\n",
      "\u001b[0;31mValueError\u001b[0m: shapes (64,64) and (0,) not aligned: 64 (dim 1) != 0 (dim 0)"
     ]
    }
   ],
   "source": [
    "receiver(\"output.txt\")"
   ]
  },
  {
   "cell_type": "markdown",
   "metadata": {},
   "source": [
    "## All together:"
   ]
  },
  {
   "cell_type": "code",
   "execution_count": 43,
   "metadata": {},
   "outputs": [
    {
     "name": "stdout",
     "output_type": "stream",
     "text": [
      "[[ 1  1  1  1]\n",
      " [ 1 -1  1 -1]\n",
      " [ 1  1 -1 -1]\n",
      " [ 1 -1 -1  1]]\n"
     ]
    }
   ],
   "source": [
    "M=compute_M(2)\n",
    "print(M)\n"
   ]
  },
  {
   "cell_type": "code",
   "execution_count": 45,
   "metadata": {},
   "outputs": [
    {
     "data": {
      "text/plain": [
       "array([ 1, -1,  1, -1])"
      ]
     },
     "execution_count": 45,
     "metadata": {},
     "output_type": "execute_result"
    }
   ],
   "source": [
    "columnk_M(M,2)"
   ]
  },
  {
   "cell_type": "code",
   "execution_count": 47,
   "metadata": {},
   "outputs": [
    {
     "name": "stdout",
     "output_type": "stream",
     "text": [
      "(1,)\n"
     ]
    }
   ],
   "source": [
    "M2=compute_M(0)\n",
    "print(M2.shape)"
   ]
  },
  {
   "cell_type": "code",
   "execution_count": 48,
   "metadata": {},
   "outputs": [
    {
     "name": "stdout",
     "output_type": "stream",
     "text": [
      "[-1 -1  1  1]\n"
     ]
    }
   ],
   "source": [
    "print(encode_mk(M,3,-1))"
   ]
  },
  {
   "cell_type": "code",
   "execution_count": 50,
   "metadata": {},
   "outputs": [],
   "source": [
    "M1=compute_M(i)\n",
    "U1=compute_U(M1,encode_mk(M1,1,-1),i)"
   ]
  },
  {
   "cell_type": "code",
   "execution_count": 52,
   "metadata": {},
   "outputs": [
    {
     "data": {
      "text/plain": [
       "-1"
      ]
     },
     "execution_count": 52,
     "metadata": {},
     "output_type": "execute_result"
    }
   ],
   "source": [
    "decode_U(U1)"
   ]
  },
  {
   "cell_type": "code",
   "execution_count": 57,
   "metadata": {},
   "outputs": [
    {
     "data": {
      "text/plain": [
       "b'az'"
      ]
     },
     "execution_count": 57,
     "metadata": {},
     "output_type": "execute_result"
    }
   ],
   "source": [
    "f = open(\"pdc_input_alphabet.txt\", 'rb')\n",
    "Y = f.read(2)\n",
    "f.close()\n",
    "Y"
   ]
  },
  {
   "cell_type": "code",
   "execution_count": null,
   "metadata": {},
   "outputs": [],
   "source": []
  }
 ],
 "metadata": {
  "kernelspec": {
   "display_name": "Python 3",
   "language": "python",
   "name": "python3"
  },
  "language_info": {
   "codemirror_mode": {
    "name": "ipython",
    "version": 3
   },
   "file_extension": ".py",
   "mimetype": "text/x-python",
   "name": "python",
   "nbconvert_exporter": "python",
   "pygments_lexer": "ipython3",
   "version": "3.7.7"
  }
 },
 "nbformat": 4,
 "nbformat_minor": 4
}
